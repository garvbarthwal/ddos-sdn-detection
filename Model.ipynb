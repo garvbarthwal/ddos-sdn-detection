{
 "cells": [
  {
   "cell_type": "code",
   "execution_count": 16,
   "id": "ddb85f65-f8b6-48e0-abde-81d39adca746",
   "metadata": {},
   "outputs": [],
   "source": [
    "import pandas as pd\n",
    "import numpy as np\n",
    "from sklearn.model_selection import train_test_split\n",
    "from sklearn.preprocessing import StandardScaler\n",
    "from sklearn.metrics import classification_report, confusion_matrix\n",
    "import tensorflow as tf\n",
    "from tensorflow.keras.models import Sequential\n",
    "from tensorflow.keras.layers import Dense, Dropout\n",
    "from tensorflow.keras.optimizers import Adam\n",
    "import glob\n",
    "from tensorflow.keras import Input\n",
    "from tensorflow.keras.layers import Dense, Dropout, BatchNormalization\n",
    "import os\n",
    "os.environ['TF_CPP_MIN_LOG_LEVEL'] = '3'  # 0 = all logs, 1 = info, 2 = warning, 3 = error\n",
    "import tensorflow as tf"
   ]
  },
  {
   "cell_type": "code",
   "execution_count": 17,
   "id": "83958693-b493-46c9-be46-04c8615a1b56",
   "metadata": {},
   "outputs": [],
   "source": [
    "features = [\n",
    "    'Protocol', 'Flow Duration', 'Total Fwd Packets', 'Total Backward Packets', 'Total Length of Fwd Packets',\n",
    "    'Total Length of Bwd Packets', 'Fwd Packet Length Max', 'Fwd Packet Length Min', 'Fwd Packet Length Mean',\n",
    "    'Fwd Packet Length Std', 'Bwd Packet Length Max', 'Bwd Packet Length Min', 'Bwd Packet Length Mean',\n",
    "    'Bwd Packet Length Std', 'Flow Bytes/s', 'Flow Packets/s', 'Fwd PSH Flags', 'Bwd PSH Flags', 'Fwd URG Flags',\n",
    "    'Bwd URG Flags', 'Fwd Header Length', 'Bwd Header Length', 'Fwd Packets/s', 'Bwd Packets/s', 'Min Packet Length',\n",
    "    'Max Packet Length', 'Packet Length Mean', 'Packet Length Std', 'Packet Length Variance', 'FIN Flag Count',\n",
    "    'SYN Flag Count', 'RST Flag Count', 'PSH Flag Count', 'ACK Flag Count', 'URG Flag Count', 'CWE Flag Count',\n",
    "    'ECE Flag Count', 'Down/Up Ratio', 'Average Packet Size', 'Avg Fwd Segment Size', 'Avg Bwd Segment Size',\n",
    "    'Subflow Fwd Packets', 'Subflow Fwd Bytes', 'Subflow Bwd Packets', 'Subflow Bwd Bytes',\n",
    "    'Init_Win_bytes_forward', 'Init_Win_bytes_backward', 'act_data_pkt_fwd', 'min_seg_size_forward'\n",
    "]"
   ]
  },
  {
   "cell_type": "code",
   "execution_count": 3,
   "id": "0a8853b2-cd28-476e-b8eb-e06aaeb7aeca",
   "metadata": {},
   "outputs": [
    {
     "name": "stdout",
     "output_type": "stream",
     "text": [
      "[INFO] Loaded /home/garv/Desktop/Cyber-Security/archive (1)/LDAP-training.parquet with shape: (6715, 78)\n",
      "[INFO] Loaded /home/garv/Desktop/Cyber-Security/archive (1)/MSSQL-training.parquet with shape: (10974, 78)\n",
      "[INFO] Loaded /home/garv/Desktop/Cyber-Security/archive (1)/NetBIOS-training.parquet with shape: (1631, 78)\n",
      "[INFO] Loaded /home/garv/Desktop/Cyber-Security/archive (1)/Portmap-training.parquet with shape: (5105, 78)\n",
      "[INFO] Loaded /home/garv/Desktop/Cyber-Security/archive (1)/Syn-training.parquet with shape: (70336, 78)\n",
      "[INFO] Loaded /home/garv/Desktop/Cyber-Security/archive (1)/UDP-training.parquet with shape: (17770, 78)\n",
      "[INFO] Loaded /home/garv/Desktop/Cyber-Security/archive (1)/UDPLag-training.parquet with shape: (12639, 78)\n",
      "[INFO] Loaded /home/garv/Desktop/Cyber-Security/archive (1)/DNS-testing.parquet with shape: (6703, 78)\n",
      "[INFO] Loaded /home/garv/Desktop/Cyber-Security/archive (1)/LDAP-testing.parquet with shape: (2831, 78)\n",
      "[INFO] Loaded /home/garv/Desktop/Cyber-Security/archive (1)/MSSQL-testing.parquet with shape: (8083, 78)\n",
      "[INFO] Loaded /home/garv/Desktop/Cyber-Security/archive (1)/NTP-testing.parquet with shape: (134674, 78)\n",
      "[INFO] Loaded /home/garv/Desktop/Cyber-Security/archive (1)/NetBIOS-testing.parquet with shape: (2225, 78)\n",
      "[INFO] Loaded /home/garv/Desktop/Cyber-Security/archive (1)/SNMP-testing.parquet with shape: (4018, 78)\n",
      "[INFO] Loaded /home/garv/Desktop/Cyber-Security/archive (1)/Syn-testing.parquet with shape: (907, 78)\n",
      "[INFO] Loaded /home/garv/Desktop/Cyber-Security/archive (1)/TFTP-testing.parquet with shape: (121833, 78)\n",
      "[INFO] Loaded /home/garv/Desktop/Cyber-Security/archive (1)/UDP-testing.parquet with shape: (12462, 78)\n",
      "[INFO] Loaded /home/garv/Desktop/Cyber-Security/archive (1)/UDPLag-testing.parquet with shape: (12465, 78)\n",
      "[INFO] Loading training data...\n",
      "[INFO] Loaded /home/garv/Desktop/Cyber-Security/archive (1)/LDAP-training.parquet with shape: (6715, 78)\n",
      "[INFO] Loaded /home/garv/Desktop/Cyber-Security/archive (1)/MSSQL-training.parquet with shape: (10974, 78)\n",
      "[INFO] Loaded /home/garv/Desktop/Cyber-Security/archive (1)/NetBIOS-training.parquet with shape: (1631, 78)\n",
      "[INFO] Loaded /home/garv/Desktop/Cyber-Security/archive (1)/Portmap-training.parquet with shape: (5105, 78)\n",
      "[INFO] Loaded /home/garv/Desktop/Cyber-Security/archive (1)/Syn-training.parquet with shape: (70336, 78)\n",
      "[INFO] Loaded /home/garv/Desktop/Cyber-Security/archive (1)/UDP-training.parquet with shape: (17770, 78)\n",
      "[INFO] Loaded /home/garv/Desktop/Cyber-Security/archive (1)/UDPLag-training.parquet with shape: (12639, 78)\n",
      "[INFO] Loading test data...\n",
      "[INFO] Loaded /home/garv/Desktop/Cyber-Security/archive (1)/DNS-testing.parquet with shape: (6703, 78)\n",
      "[INFO] Loaded /home/garv/Desktop/Cyber-Security/archive (1)/LDAP-testing.parquet with shape: (2831, 78)\n",
      "[INFO] Loaded /home/garv/Desktop/Cyber-Security/archive (1)/MSSQL-testing.parquet with shape: (8083, 78)\n",
      "[INFO] Loaded /home/garv/Desktop/Cyber-Security/archive (1)/NTP-testing.parquet with shape: (134674, 78)\n",
      "[INFO] Loaded /home/garv/Desktop/Cyber-Security/archive (1)/NetBIOS-testing.parquet with shape: (2225, 78)\n",
      "[INFO] Loaded /home/garv/Desktop/Cyber-Security/archive (1)/SNMP-testing.parquet with shape: (4018, 78)\n",
      "[INFO] Loaded /home/garv/Desktop/Cyber-Security/archive (1)/Syn-testing.parquet with shape: (907, 78)\n",
      "[INFO] Loaded /home/garv/Desktop/Cyber-Security/archive (1)/TFTP-testing.parquet with shape: (121833, 78)\n",
      "[INFO] Loaded /home/garv/Desktop/Cyber-Security/archive (1)/UDP-testing.parquet with shape: (12462, 78)\n",
      "[INFO] Loaded /home/garv/Desktop/Cyber-Security/archive (1)/UDPLag-testing.parquet with shape: (12465, 78)\n"
     ]
    }
   ],
   "source": [
    "def load_parquet_files(file_list):\n",
    "    dfs = []\n",
    "    for f in file_list:\n",
    "        df = pd.read_parquet(f)\n",
    "        print(f\"[INFO] Loaded {f} with shape: {df.shape}\")\n",
    "        dfs.append(df)\n",
    "    return pd.concat(dfs, ignore_index=True)\n",
    "\n",
    "# === Load training and test data ===\n",
    "train_files = sorted(glob.glob(r'/home/garv/Desktop/Cyber-Security/archive (1)/*training.parquet'))\n",
    "test_files = sorted(glob.glob(r'/home/garv/Desktop/Cyber-Security/archive (1)/*testing.parquet'))\n",
    "\n",
    "train_df = load_parquet_files(train_files)\n",
    "test_df = load_parquet_files(test_files)\n",
    "print(\"[INFO] Loading training data...\")\n",
    "train_df = load_parquet_files(train_files)\n",
    "\n",
    "print(\"[INFO] Loading test data...\")\n",
    "test_df = load_parquet_files(test_files)"
   ]
  },
  {
   "cell_type": "code",
   "execution_count": 4,
   "id": "b85284e8-ca85-4278-901f-45dbda82159e",
   "metadata": {},
   "outputs": [],
   "source": [
    "train_df.columns = train_df.columns.str.strip()\n",
    "test_df.columns = test_df.columns.str.strip()"
   ]
  },
  {
   "cell_type": "code",
   "execution_count": 5,
   "id": "e7c4bc06-9ae2-4ac0-aad5-2dcd368aeee9",
   "metadata": {},
   "outputs": [
    {
     "name": "stdout",
     "output_type": "stream",
     "text": [
      "[INFO] Training data shape after filtering: (125170, 41)\n",
      "[INFO] Test data shape after filtering: (306201, 41)\n",
      "[INFO] Using 40 features.\n"
     ]
    }
   ],
   "source": [
    "common_features = [f for f in features if f in train_df.columns and f in test_df.columns]\n",
    "wget https://developer.download.nvidia.com/compute/cuda/repos/ubuntu2404/x86_64/cuda-keyring_1.1-1_all.deb\n",
    "sudo dpkg -i cuda-keyring_1.1-1_all.deb\n",
    "sudo apt-get update = train_df[common_features + ['Label']]\n",
    "test_df = test_df[common_features + ['Label']]\n",
    "print(f\"[INFO] Training data shape after filtering: {train_df.shape}\")\n",
    "print(f\"[INFO] Test data shape after filtering: {test_df.shape}\")\n",
    "print(f\"[INFO] Using {len(common_features)} features.\")"
   ]
  },
  {
   "cell_type": "code",
   "execution_count": 6,
   "id": "db8f6c40-85e3-4347-98c2-348cf34379ac",
   "metadata": {},
   "outputs": [
    {
     "name": "stdout",
     "output_type": "stream",
     "text": [
      "Index(['Protocol', 'Flow Duration', 'Total Fwd Packets',\n",
      "       'Total Backward Packets', 'Fwd Packet Length Max',\n",
      "       'Fwd Packet Length Min', 'Fwd Packet Length Mean',\n",
      "       'Fwd Packet Length Std', 'Bwd Packet Length Max',\n",
      "       'Bwd Packet Length Min', 'Bwd Packet Length Mean',\n",
      "       'Bwd Packet Length Std', 'Flow Bytes/s', 'Flow Packets/s',\n",
      "       'Fwd PSH Flags', 'Bwd PSH Flags', 'Fwd URG Flags', 'Bwd URG Flags',\n",
      "       'Fwd Header Length', 'Bwd Header Length', 'Fwd Packets/s',\n",
      "       'Bwd Packets/s', 'Packet Length Mean', 'Packet Length Std',\n",
      "       'Packet Length Variance', 'FIN Flag Count', 'SYN Flag Count',\n",
      "       'RST Flag Count', 'PSH Flag Count', 'ACK Flag Count', 'URG Flag Count',\n",
      "       'CWE Flag Count', 'ECE Flag Count', 'Down/Up Ratio',\n",
      "       'Avg Fwd Segment Size', 'Avg Bwd Segment Size', 'Subflow Fwd Packets',\n",
      "       'Subflow Fwd Bytes', 'Subflow Bwd Packets', 'Subflow Bwd Bytes',\n",
      "       'Label'],\n",
      "      dtype='object')\n"
     ]
    }
   ],
   "source": [
    "print(train_df.columns)\n"
   ]
  },
  {
   "cell_type": "code",
   "execution_count": 9,
   "id": "b124edb0-fa3d-494f-954f-f55f9f301e17",
   "metadata": {},
   "outputs": [
    {
     "name": "stdout",
     "output_type": "stream",
     "text": [
      "Feature columns: ['Protocol', 'Flow Duration', 'Total Fwd Packets', 'Total Backward Packets', 'Fwd Packet Length Max', 'Fwd Packet Length Min', 'Fwd Packet Length Mean', 'Fwd Packet Length Std', 'Bwd Packet Length Max', 'Bwd Packet Length Min', 'Bwd Packet Length Mean', 'Bwd Packet Length Std', 'Flow Bytes/s', 'Flow Packets/s', 'Fwd PSH Flags', 'Bwd PSH Flags', 'Fwd URG Flags', 'Bwd URG Flags', 'Fwd Header Length', 'Bwd Header Length', 'Fwd Packets/s', 'Bwd Packets/s', 'Packet Length Mean', 'Packet Length Std', 'Packet Length Variance', 'FIN Flag Count', 'SYN Flag Count', 'RST Flag Count', 'PSH Flag Count', 'ACK Flag Count', 'URG Flag Count', 'CWE Flag Count', 'ECE Flag Count', 'Down/Up Ratio', 'Avg Fwd Segment Size', 'Avg Bwd Segment Size', 'Subflow Fwd Packets', 'Subflow Fwd Bytes', 'Subflow Bwd Packets', 'Subflow Bwd Bytes', 'Label']\n"
     ]
    }
   ],
   "source": [
    "print(\"Feature columns:\", train_df.columns.tolist())\n"
   ]
  },
  {
   "cell_type": "code",
   "execution_count": 10,
   "id": "594f344b-4618-4372-a58f-762cb8fb6c35",
   "metadata": {},
   "outputs": [],
   "source": [
    "train_df.replace([np.inf, -np.inf], 0, inplace=True)\n",
    "test_df.replace([np.inf, -np.inf], 0, inplace=True)\n",
    "train_df.fillna(0, inplace=True)\n",
    "test_df.fillna(0, inplace=True)"
   ]
  },
  {
   "cell_type": "code",
   "execution_count": 11,
   "id": "5d249d93-d1ea-4585-bf55-506b42add53f",
   "metadata": {},
   "outputs": [],
   "source": [
    "# === Binary Label Encoding (Robust) ===\n",
    "train_df['Label'] = train_df['Label'].astype(str).str.strip().str.lower().apply(lambda x: 0 if x == 'benign' else 1)\n",
    "test_df['Label'] = test_df['Label'].astype(str).str.strip().str.lower().apply(lambda x: 0 if x == 'benign' else 1)\n"
   ]
  },
  {
   "cell_type": "code",
   "execution_count": 12,
   "id": "abb29fe1-7604-4f80-8945-0ac2e7d13b44",
   "metadata": {},
   "outputs": [
    {
     "name": "stdout",
     "output_type": "stream",
     "text": [
      "[INFO] X_train shape: (125170, 40), y_train shape: (125170,)\n",
      "[INFO] X_test shape: (306201, 40), y_test shape: (306201,)\n"
     ]
    }
   ],
   "source": [
    "X_train = train_df[common_features].astype(np.float32)\n",
    "y_train = train_df['Label'].astype(np.int32)\n",
    "\n",
    "X_test = test_df[common_features].astype(np.float32)\n",
    "y_test = test_df['Label'].astype(np.int32)\n",
    "\n",
    "print(f\"[INFO] X_train shape: {X_train.shape}, y_train shape: {y_train.shape}\")\n",
    "print(f\"[INFO] X_test shape: {X_test.shape}, y_test shape: {y_test.shape}\")\n",
    "\n",
    "scaler = StandardScaler()\n",
    "X_train_scaled = scaler.fit_transform(X_train)\n",
    "X_test_scaled = scaler.transform(X_test)"
   ]
  },
  {
   "cell_type": "code",
   "execution_count": 13,
   "id": "cf4b7871-c8c2-432d-b226-295876891d22",
   "metadata": {},
   "outputs": [
    {
     "name": "stderr",
     "output_type": "stream",
     "text": [
      "E0000 00:00:1748178498.654946   23155 cuda_executor.cc:1228] INTERNAL: CUDA Runtime error: Failed call to cudaGetRuntimeVersion: Error loading CUDA libraries. GPU will not be used.: Error loading CUDA libraries. GPU will not be used.\n",
      "W0000 00:00:1748178498.655780   23155 gpu_device.cc:2341] Cannot dlopen some GPU libraries. Please make sure the missing libraries mentioned above are installed properly if you would like to use GPU. Follow the guide at https://www.tensorflow.org/install/gpu for how to download and setup the required libraries for your platform.\n",
      "Skipping registering GPU devices...\n"
     ]
    }
   ],
   "source": [
    "model = Sequential([\n",
    "    Input(shape=(X_train.shape[1],)),  # Explicit input layer\n",
    "\n",
    "    Dense(128, activation='relu'),\n",
    "    BatchNormalization(),\n",
    "    Dropout(0.3),\n",
    "\n",
    "    Dense(256, activation='relu'),\n",
    "    BatchNormalization(),\n",
    "    Dropout(0.3),\n",
    "\n",
    "    Dense(128, activation='relu'),\n",
    "    BatchNormalization(),\n",
    "    Dropout(0.3),\n",
    "\n",
    "    Dense(1, activation='sigmoid')\n",
    "])"
   ]
  },
  {
   "cell_type": "code",
   "execution_count": 14,
   "id": "8fad73ac-12e7-40da-9a92-0ef0d1d3e555",
   "metadata": {},
   "outputs": [],
   "source": [
    "model.compile(optimizer=Adam(0.001), loss='binary_crossentropy', metrics=['accuracy'])"
   ]
  },
  {
   "cell_type": "code",
   "execution_count": 15,
   "id": "892a78c5-0c08-4f04-8002-8be164831b3e",
   "metadata": {},
   "outputs": [
    {
     "name": "stdout",
     "output_type": "stream",
     "text": [
      "[INFO] Starting training...\n",
      "Epoch 1/15\n",
      "\u001b[1m783/783\u001b[0m \u001b[32m━━━━━━━━━━━━━━━━━━━━\u001b[0m\u001b[37m\u001b[0m \u001b[1m7s\u001b[0m 7ms/step - accuracy: 0.9717 - loss: 0.0907 - val_accuracy: 0.9941 - val_loss: 0.0231\n",
      "Epoch 2/15\n",
      "\u001b[1m783/783\u001b[0m \u001b[32m━━━━━━━━━━━━━━━━━━━━\u001b[0m\u001b[37m\u001b[0m \u001b[1m6s\u001b[0m 7ms/step - accuracy: 0.9859 - loss: 0.0477 - val_accuracy: 0.9943 - val_loss: 0.0166\n",
      "Epoch 3/15\n",
      "\u001b[1m783/783\u001b[0m \u001b[32m━━━━━━━━━━━━━━━━━━━━\u001b[0m\u001b[37m\u001b[0m \u001b[1m5s\u001b[0m 7ms/step - accuracy: 0.9893 - loss: 0.0359 - val_accuracy: 0.9945 - val_loss: 0.0165\n",
      "Epoch 4/15\n",
      "\u001b[1m783/783\u001b[0m \u001b[32m━━━━━━━━━━━━━━━━━━━━\u001b[0m\u001b[37m\u001b[0m \u001b[1m5s\u001b[0m 7ms/step - accuracy: 0.9929 - loss: 0.0256 - val_accuracy: 0.9984 - val_loss: 0.0190\n",
      "Epoch 5/15\n",
      "\u001b[1m783/783\u001b[0m \u001b[32m━━━━━━━━━━━━━━━━━━━━\u001b[0m\u001b[37m\u001b[0m \u001b[1m5s\u001b[0m 7ms/step - accuracy: 0.9942 - loss: 0.0216 - val_accuracy: 0.9974 - val_loss: 0.0176\n",
      "Epoch 6/15\n",
      "\u001b[1m783/783\u001b[0m \u001b[32m━━━━━━━━━━━━━━━━━━━━\u001b[0m\u001b[37m\u001b[0m \u001b[1m6s\u001b[0m 7ms/step - accuracy: 0.9945 - loss: 0.0209 - val_accuracy: 0.9984 - val_loss: 0.0095\n",
      "Epoch 7/15\n",
      "\u001b[1m783/783\u001b[0m \u001b[32m━━━━━━━━━━━━━━━━━━━━\u001b[0m\u001b[37m\u001b[0m \u001b[1m6s\u001b[0m 8ms/step - accuracy: 0.9957 - loss: 0.0178 - val_accuracy: 0.9828 - val_loss: 0.0253\n",
      "Epoch 8/15\n",
      "\u001b[1m783/783\u001b[0m \u001b[32m━━━━━━━━━━━━━━━━━━━━\u001b[0m\u001b[37m\u001b[0m \u001b[1m6s\u001b[0m 8ms/step - accuracy: 0.9957 - loss: 0.0162 - val_accuracy: 0.9982 - val_loss: 0.0104\n",
      "Epoch 9/15\n",
      "\u001b[1m783/783\u001b[0m \u001b[32m━━━━━━━━━━━━━━━━━━━━\u001b[0m\u001b[37m\u001b[0m \u001b[1m5s\u001b[0m 7ms/step - accuracy: 0.9956 - loss: 0.0174 - val_accuracy: 0.9973 - val_loss: 0.0095\n",
      "Epoch 10/15\n",
      "\u001b[1m783/783\u001b[0m \u001b[32m━━━━━━━━━━━━━━━━━━━━\u001b[0m\u001b[37m\u001b[0m \u001b[1m6s\u001b[0m 7ms/step - accuracy: 0.9950 - loss: 0.0184 - val_accuracy: 0.9986 - val_loss: 0.0067\n",
      "Epoch 11/15\n",
      "\u001b[1m783/783\u001b[0m \u001b[32m━━━━━━━━━━━━━━━━━━━━\u001b[0m\u001b[37m\u001b[0m \u001b[1m5s\u001b[0m 6ms/step - accuracy: 0.9948 - loss: 0.0182 - val_accuracy: 0.9802 - val_loss: 0.0478\n",
      "Epoch 12/15\n",
      "\u001b[1m783/783\u001b[0m \u001b[32m━━━━━━━━━━━━━━━━━━━━\u001b[0m\u001b[37m\u001b[0m \u001b[1m6s\u001b[0m 8ms/step - accuracy: 0.9954 - loss: 0.0176 - val_accuracy: 0.9946 - val_loss: 0.0171\n",
      "Epoch 13/15\n",
      "\u001b[1m783/783\u001b[0m \u001b[32m━━━━━━━━━━━━━━━━━━━━\u001b[0m\u001b[37m\u001b[0m \u001b[1m3s\u001b[0m 4ms/step - accuracy: 0.9965 - loss: 0.0144 - val_accuracy: 0.9993 - val_loss: 0.0114\n",
      "Epoch 14/15\n",
      "\u001b[1m783/783\u001b[0m \u001b[32m━━━━━━━━━━━━━━━━━━━━\u001b[0m\u001b[37m\u001b[0m \u001b[1m4s\u001b[0m 6ms/step - accuracy: 0.9966 - loss: 0.0134 - val_accuracy: 0.9983 - val_loss: 0.0063\n",
      "Epoch 15/15\n",
      "\u001b[1m783/783\u001b[0m \u001b[32m━━━━━━━━━━━━━━━━━━━━\u001b[0m\u001b[37m\u001b[0m \u001b[1m5s\u001b[0m 6ms/step - accuracy: 0.9964 - loss: 0.0142 - val_accuracy: 0.9437 - val_loss: 0.1073\n"
     ]
    },
    {
     "data": {
      "text/plain": [
       "<keras.src.callbacks.history.History at 0x7d4283458070>"
      ]
     },
     "execution_count": 15,
     "metadata": {},
     "output_type": "execute_result"
    }
   ],
   "source": [
    "print(\"[INFO] Starting training...\")\n",
    "model.fit(X_train_scaled, y_train, epochs=15, batch_size=128, validation_split=0.2, verbose=1)"
   ]
  },
  {
   "cell_type": "code",
   "execution_count": 18,
   "id": "b09d263d-53e0-41d0-8635-ed2c2fca3bb8",
   "metadata": {},
   "outputs": [
    {
     "name": "stdout",
     "output_type": "stream",
     "text": [
      "[INFO] Evaluating model...\n",
      "\u001b[1m9569/9569\u001b[0m \u001b[32m━━━━━━━━━━━━━━━━━━━━\u001b[0m\u001b[37m\u001b[0m \u001b[1m15s\u001b[0m 2ms/step\n",
      "\n",
      "[RESULT] Confusion Matrix:\n",
      " [[ 51282    122]\n",
      " [  8339 246458]]\n",
      "\n",
      "[RESULT] Classification Report:\n",
      "               precision    recall  f1-score   support\n",
      "\n",
      "           0       0.86      1.00      0.92     51404\n",
      "           1       1.00      0.97      0.98    254797\n",
      "\n",
      "    accuracy                           0.97    306201\n",
      "   macro avg       0.93      0.98      0.95    306201\n",
      "weighted avg       0.98      0.97      0.97    306201\n",
      "\n"
     ]
    }
   ],
   "source": [
    "print(\"[INFO] Evaluating model...\")\n",
    "y_pred = (model.predict(X_test_scaled) > 0.5).astype(\"int32\")\n",
    "\n",
    "print(\"\\n[RESULT] Confusion Matrix:\\n\", confusion_matrix(y_test, y_pred))\n",
    "print(\"\\n[RESULT] Classification Report:\\n\", classification_report(y_test, y_pred))"
   ]
  },
  {
   "cell_type": "code",
   "execution_count": 36,
   "id": "fa6efac3-3c0b-4df6-901b-b8a613c68215",
   "metadata": {},
   "outputs": [
    {
     "name": "stderr",
     "output_type": "stream",
     "text": [
      "WARNING:absl:You are saving your model as an HDF5 file via `model.save()` or `keras.saving.save_model(model)`. This file format is considered legacy. We recommend using instead the native Keras format, e.g. `model.save('my_model.keras')` or `keras.saving.save_model(model, 'my_model.keras')`. \n"
     ]
    },
    {
     "name": "stdout",
     "output_type": "stream",
     "text": [
      "[INFO] Model and scaler saved.\n"
     ]
    }
   ],
   "source": [
    "model.save(\"ddos_detection_model11.h5\")\n",
    "# model.save(\"ddos_detection_model01.keras\")\n",
    "import joblib\n",
    "joblib.dump(scaler, \"scaler1.pkl\")\n",
    "\n",
    "print(\"[INFO] Model and scaler saved.\")"
   ]
  },
  {
   "cell_type": "code",
   "execution_count": 41,
   "id": "89087322-f796-4be4-a515-61d572350704",
   "metadata": {},
   "outputs": [
    {
     "name": "stdout",
     "output_type": "stream",
     "text": [
      "\u001b[1m1/1\u001b[0m \u001b[32m━━━━━━━━━━━━━━━━━━━━\u001b[0m\u001b[37m\u001b[0m \u001b[1m0s\u001b[0m 30ms/step\n",
      "[[0.9294811]]\n"
     ]
    },
    {
     "data": {
      "text/plain": [
       "array([[-1.67101803, -0.66954652,  0.03227004, -0.05543719, -0.33698766,\n",
       "        -0.20719318, -0.26592836, -0.26839275, -0.26038845, -0.37300425,\n",
       "        -0.28334341, -0.23785127, -0.23676508, -0.33507217, -0.22834296,\n",
       "         0.        ,  0.        ,  0.        ,  0.0966536 ,  0.01435393,\n",
       "        -0.32910057, -0.08554584, -0.31041599, -0.30933282, -0.20920671,\n",
       "         0.        , -0.03199463, -0.22834296,  0.        , -0.9434815 ,\n",
       "        -0.44355997, -0.29931705,  0.        , -0.53004644, -0.26592836,\n",
       "        -0.28334341,  0.03227004,  0.23694276, -0.05543719, -0.01861421]])"
      ]
     },
     "execution_count": 41,
     "metadata": {},
     "output_type": "execute_result"
    }
   ],
   "source": [
    "import numpy as np\n",
    "\n",
    "input_data = np.array([[-1.67101803, -0.66954652 , 0.03227004, -0.05543719, -0.33698766 ,-0.20719318,\n",
    "  -0.26592836 ,-0.26839275 ,-0.26038845 ,-0.37300425 ,-0.28334341 ,-0.23785127,\n",
    "  -0.23676508 ,-0.33507217 ,-0.22834296 , 0.         , 0.          ,0.,\n",
    "   0.0966536  , 0.01435393 ,-0.32910057 ,-0.08554584 ,-0.31041599 ,-0.30933282,\n",
    "  -0.20920671  ,0.         ,-0.03199463 ,-0.22834296  ,0.         ,-0.9434815,\n",
    "  -0.44355997 ,-0.29931705  ,0.         ,-0.53004644 ,-0.26592836 ,-0.28334341,\n",
    "   0.03227004  ,0.23694276 ,-0.05543719 ,-0.01861421]])\n",
    "\n",
    "# input_data2=np.array([[ 1.33350433e+00 -6.69546461e-01 2.61359918e+01 -5.54371948e-02\n",
    "#   -4.13743612e-01 -3.20569281e-01 -3.77299372e-01 -2.68392747e-01\n",
    "#   -2.60388452e-01 -3.73004246e-01 -2.83343413e-01 -2.37851266e-01\n",
    "#   -2.36244735e-01 -3.26049658e-01 -2.28342965e-01  0.00000000e+00\n",
    "#    0.00000000e+00  0.00000000e+00  9.67186672e-02  1.43539318e-02\n",
    "#   -3.20007729e-01 -8.55458380e-02 -4.19337911e-01 -3.09332821e-01\n",
    "#   -2.09206714e-01  0.00000000e+00 -3.19946254e-02 -2.28342965e-01\n",
    "#    0.00000000e+00 -9.43481505e-01 -4.43559972e-01 -2.99317050e-01\n",
    "#    0.00000000e+00 -5.30046444e-01 -3.77299372e-01 -2.83343413e-01\n",
    "#    2.61359918e+01  1.36469935e+02 -5.54371948e-02 -1.86142079e-02]])\n",
    "\n",
    "\n",
    "# print(np.array_equal(input_data,input_data))\n",
    "\n",
    "prediction = model.predict(input_data)\n",
    "print(prediction)\n",
    "input_data"
   ]
  },
  {
   "cell_type": "code",
   "execution_count": 42,
   "id": "5ff7f0c1-f963-4388-b86a-a2a50b36687d",
   "metadata": {},
   "outputs": [
    {
     "data": {
      "text/html": [
       "<pre style=\"white-space:pre;overflow-x:auto;line-height:normal;font-family:Menlo,'DejaVu Sans Mono',consolas,'Courier New',monospace\"><span style=\"font-weight: bold\">Model: \"sequential\"</span>\n",
       "</pre>\n"
      ],
      "text/plain": [
       "\u001b[1mModel: \"sequential\"\u001b[0m\n"
      ]
     },
     "metadata": {},
     "output_type": "display_data"
    },
    {
     "data": {
      "text/html": [
       "<pre style=\"white-space:pre;overflow-x:auto;line-height:normal;font-family:Menlo,'DejaVu Sans Mono',consolas,'Courier New',monospace\">┏━━━━━━━━━━━━━━━━━━━━━━━━━━━━━━━━━┳━━━━━━━━━━━━━━━━━━━━━━━━┳━━━━━━━━━━━━━━━┓\n",
       "┃<span style=\"font-weight: bold\"> Layer (type)                    </span>┃<span style=\"font-weight: bold\"> Output Shape           </span>┃<span style=\"font-weight: bold\">       Param # </span>┃\n",
       "┡━━━━━━━━━━━━━━━━━━━━━━━━━━━━━━━━━╇━━━━━━━━━━━━━━━━━━━━━━━━╇━━━━━━━━━━━━━━━┩\n",
       "│ dense (<span style=\"color: #0087ff; text-decoration-color: #0087ff\">Dense</span>)                   │ (<span style=\"color: #00d7ff; text-decoration-color: #00d7ff\">None</span>, <span style=\"color: #00af00; text-decoration-color: #00af00\">128</span>)            │         <span style=\"color: #00af00; text-decoration-color: #00af00\">5,248</span> │\n",
       "├─────────────────────────────────┼────────────────────────┼───────────────┤\n",
       "│ batch_normalization             │ (<span style=\"color: #00d7ff; text-decoration-color: #00d7ff\">None</span>, <span style=\"color: #00af00; text-decoration-color: #00af00\">128</span>)            │           <span style=\"color: #00af00; text-decoration-color: #00af00\">512</span> │\n",
       "│ (<span style=\"color: #0087ff; text-decoration-color: #0087ff\">BatchNormalization</span>)            │                        │               │\n",
       "├─────────────────────────────────┼────────────────────────┼───────────────┤\n",
       "│ dropout (<span style=\"color: #0087ff; text-decoration-color: #0087ff\">Dropout</span>)               │ (<span style=\"color: #00d7ff; text-decoration-color: #00d7ff\">None</span>, <span style=\"color: #00af00; text-decoration-color: #00af00\">128</span>)            │             <span style=\"color: #00af00; text-decoration-color: #00af00\">0</span> │\n",
       "├─────────────────────────────────┼────────────────────────┼───────────────┤\n",
       "│ dense_1 (<span style=\"color: #0087ff; text-decoration-color: #0087ff\">Dense</span>)                 │ (<span style=\"color: #00d7ff; text-decoration-color: #00d7ff\">None</span>, <span style=\"color: #00af00; text-decoration-color: #00af00\">256</span>)            │        <span style=\"color: #00af00; text-decoration-color: #00af00\">33,024</span> │\n",
       "├─────────────────────────────────┼────────────────────────┼───────────────┤\n",
       "│ batch_normalization_1           │ (<span style=\"color: #00d7ff; text-decoration-color: #00d7ff\">None</span>, <span style=\"color: #00af00; text-decoration-color: #00af00\">256</span>)            │         <span style=\"color: #00af00; text-decoration-color: #00af00\">1,024</span> │\n",
       "│ (<span style=\"color: #0087ff; text-decoration-color: #0087ff\">BatchNormalization</span>)            │                        │               │\n",
       "├─────────────────────────────────┼────────────────────────┼───────────────┤\n",
       "│ dropout_1 (<span style=\"color: #0087ff; text-decoration-color: #0087ff\">Dropout</span>)             │ (<span style=\"color: #00d7ff; text-decoration-color: #00d7ff\">None</span>, <span style=\"color: #00af00; text-decoration-color: #00af00\">256</span>)            │             <span style=\"color: #00af00; text-decoration-color: #00af00\">0</span> │\n",
       "├─────────────────────────────────┼────────────────────────┼───────────────┤\n",
       "│ dense_2 (<span style=\"color: #0087ff; text-decoration-color: #0087ff\">Dense</span>)                 │ (<span style=\"color: #00d7ff; text-decoration-color: #00d7ff\">None</span>, <span style=\"color: #00af00; text-decoration-color: #00af00\">128</span>)            │        <span style=\"color: #00af00; text-decoration-color: #00af00\">32,896</span> │\n",
       "├─────────────────────────────────┼────────────────────────┼───────────────┤\n",
       "│ batch_normalization_2           │ (<span style=\"color: #00d7ff; text-decoration-color: #00d7ff\">None</span>, <span style=\"color: #00af00; text-decoration-color: #00af00\">128</span>)            │           <span style=\"color: #00af00; text-decoration-color: #00af00\">512</span> │\n",
       "│ (<span style=\"color: #0087ff; text-decoration-color: #0087ff\">BatchNormalization</span>)            │                        │               │\n",
       "├─────────────────────────────────┼────────────────────────┼───────────────┤\n",
       "│ dropout_2 (<span style=\"color: #0087ff; text-decoration-color: #0087ff\">Dropout</span>)             │ (<span style=\"color: #00d7ff; text-decoration-color: #00d7ff\">None</span>, <span style=\"color: #00af00; text-decoration-color: #00af00\">128</span>)            │             <span style=\"color: #00af00; text-decoration-color: #00af00\">0</span> │\n",
       "├─────────────────────────────────┼────────────────────────┼───────────────┤\n",
       "│ dense_3 (<span style=\"color: #0087ff; text-decoration-color: #0087ff\">Dense</span>)                 │ (<span style=\"color: #00d7ff; text-decoration-color: #00d7ff\">None</span>, <span style=\"color: #00af00; text-decoration-color: #00af00\">1</span>)              │           <span style=\"color: #00af00; text-decoration-color: #00af00\">129</span> │\n",
       "└─────────────────────────────────┴────────────────────────┴───────────────┘\n",
       "</pre>\n"
      ],
      "text/plain": [
       "┏━━━━━━━━━━━━━━━━━━━━━━━━━━━━━━━━━┳━━━━━━━━━━━━━━━━━━━━━━━━┳━━━━━━━━━━━━━━━┓\n",
       "┃\u001b[1m \u001b[0m\u001b[1mLayer (type)                   \u001b[0m\u001b[1m \u001b[0m┃\u001b[1m \u001b[0m\u001b[1mOutput Shape          \u001b[0m\u001b[1m \u001b[0m┃\u001b[1m \u001b[0m\u001b[1m      Param #\u001b[0m\u001b[1m \u001b[0m┃\n",
       "┡━━━━━━━━━━━━━━━━━━━━━━━━━━━━━━━━━╇━━━━━━━━━━━━━━━━━━━━━━━━╇━━━━━━━━━━━━━━━┩\n",
       "│ dense (\u001b[38;5;33mDense\u001b[0m)                   │ (\u001b[38;5;45mNone\u001b[0m, \u001b[38;5;34m128\u001b[0m)            │         \u001b[38;5;34m5,248\u001b[0m │\n",
       "├─────────────────────────────────┼────────────────────────┼───────────────┤\n",
       "│ batch_normalization             │ (\u001b[38;5;45mNone\u001b[0m, \u001b[38;5;34m128\u001b[0m)            │           \u001b[38;5;34m512\u001b[0m │\n",
       "│ (\u001b[38;5;33mBatchNormalization\u001b[0m)            │                        │               │\n",
       "├─────────────────────────────────┼────────────────────────┼───────────────┤\n",
       "│ dropout (\u001b[38;5;33mDropout\u001b[0m)               │ (\u001b[38;5;45mNone\u001b[0m, \u001b[38;5;34m128\u001b[0m)            │             \u001b[38;5;34m0\u001b[0m │\n",
       "├─────────────────────────────────┼────────────────────────┼───────────────┤\n",
       "│ dense_1 (\u001b[38;5;33mDense\u001b[0m)                 │ (\u001b[38;5;45mNone\u001b[0m, \u001b[38;5;34m256\u001b[0m)            │        \u001b[38;5;34m33,024\u001b[0m │\n",
       "├─────────────────────────────────┼────────────────────────┼───────────────┤\n",
       "│ batch_normalization_1           │ (\u001b[38;5;45mNone\u001b[0m, \u001b[38;5;34m256\u001b[0m)            │         \u001b[38;5;34m1,024\u001b[0m │\n",
       "│ (\u001b[38;5;33mBatchNormalization\u001b[0m)            │                        │               │\n",
       "├─────────────────────────────────┼────────────────────────┼───────────────┤\n",
       "│ dropout_1 (\u001b[38;5;33mDropout\u001b[0m)             │ (\u001b[38;5;45mNone\u001b[0m, \u001b[38;5;34m256\u001b[0m)            │             \u001b[38;5;34m0\u001b[0m │\n",
       "├─────────────────────────────────┼────────────────────────┼───────────────┤\n",
       "│ dense_2 (\u001b[38;5;33mDense\u001b[0m)                 │ (\u001b[38;5;45mNone\u001b[0m, \u001b[38;5;34m128\u001b[0m)            │        \u001b[38;5;34m32,896\u001b[0m │\n",
       "├─────────────────────────────────┼────────────────────────┼───────────────┤\n",
       "│ batch_normalization_2           │ (\u001b[38;5;45mNone\u001b[0m, \u001b[38;5;34m128\u001b[0m)            │           \u001b[38;5;34m512\u001b[0m │\n",
       "│ (\u001b[38;5;33mBatchNormalization\u001b[0m)            │                        │               │\n",
       "├─────────────────────────────────┼────────────────────────┼───────────────┤\n",
       "│ dropout_2 (\u001b[38;5;33mDropout\u001b[0m)             │ (\u001b[38;5;45mNone\u001b[0m, \u001b[38;5;34m128\u001b[0m)            │             \u001b[38;5;34m0\u001b[0m │\n",
       "├─────────────────────────────────┼────────────────────────┼───────────────┤\n",
       "│ dense_3 (\u001b[38;5;33mDense\u001b[0m)                 │ (\u001b[38;5;45mNone\u001b[0m, \u001b[38;5;34m1\u001b[0m)              │           \u001b[38;5;34m129\u001b[0m │\n",
       "└─────────────────────────────────┴────────────────────────┴───────────────┘\n"
      ]
     },
     "metadata": {},
     "output_type": "display_data"
    },
    {
     "data": {
      "text/html": [
       "<pre style=\"white-space:pre;overflow-x:auto;line-height:normal;font-family:Menlo,'DejaVu Sans Mono',consolas,'Courier New',monospace\"><span style=\"font-weight: bold\"> Total params: </span><span style=\"color: #00af00; text-decoration-color: #00af00\">217,989</span> (851.52 KB)\n",
       "</pre>\n"
      ],
      "text/plain": [
       "\u001b[1m Total params: \u001b[0m\u001b[38;5;34m217,989\u001b[0m (851.52 KB)\n"
      ]
     },
     "metadata": {},
     "output_type": "display_data"
    },
    {
     "data": {
      "text/html": [
       "<pre style=\"white-space:pre;overflow-x:auto;line-height:normal;font-family:Menlo,'DejaVu Sans Mono',consolas,'Courier New',monospace\"><span style=\"font-weight: bold\"> Trainable params: </span><span style=\"color: #00af00; text-decoration-color: #00af00\">72,321</span> (282.50 KB)\n",
       "</pre>\n"
      ],
      "text/plain": [
       "\u001b[1m Trainable params: \u001b[0m\u001b[38;5;34m72,321\u001b[0m (282.50 KB)\n"
      ]
     },
     "metadata": {},
     "output_type": "display_data"
    },
    {
     "data": {
      "text/html": [
       "<pre style=\"white-space:pre;overflow-x:auto;line-height:normal;font-family:Menlo,'DejaVu Sans Mono',consolas,'Courier New',monospace\"><span style=\"font-weight: bold\"> Non-trainable params: </span><span style=\"color: #00af00; text-decoration-color: #00af00\">1,024</span> (4.00 KB)\n",
       "</pre>\n"
      ],
      "text/plain": [
       "\u001b[1m Non-trainable params: \u001b[0m\u001b[38;5;34m1,024\u001b[0m (4.00 KB)\n"
      ]
     },
     "metadata": {},
     "output_type": "display_data"
    },
    {
     "data": {
      "text/html": [
       "<pre style=\"white-space:pre;overflow-x:auto;line-height:normal;font-family:Menlo,'DejaVu Sans Mono',consolas,'Courier New',monospace\"><span style=\"font-weight: bold\"> Optimizer params: </span><span style=\"color: #00af00; text-decoration-color: #00af00\">144,644</span> (565.02 KB)\n",
       "</pre>\n"
      ],
      "text/plain": [
       "\u001b[1m Optimizer params: \u001b[0m\u001b[38;5;34m144,644\u001b[0m (565.02 KB)\n"
      ]
     },
     "metadata": {},
     "output_type": "display_data"
    }
   ],
   "source": [
    "model.summary()\n"
   ]
  },
  {
   "cell_type": "code",
   "execution_count": null,
   "id": "6a5c7071-a34a-4839-a17e-d214157f565b",
   "metadata": {},
   "outputs": [],
   "source": []
  }
 ],
 "metadata": {
  "kernelspec": {
   "display_name": "Python 3 (ipykernel)",
   "language": "python",
   "name": "python3"
  },
  "language_info": {
   "codemirror_mode": {
    "name": "ipython",
    "version": 3
   },
   "file_extension": ".py",
   "mimetype": "text/x-python",
   "name": "python",
   "nbconvert_exporter": "python",
   "pygments_lexer": "ipython3",
   "version": "3.9.22"
  }
 },
 "nbformat": 4,
 "nbformat_minor": 5
}
